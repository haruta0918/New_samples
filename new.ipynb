{
 "cells": [
  {
   "cell_type": "code",
   "execution_count": 11,
   "id": "00f3047a",
   "metadata": {},
   "outputs": [
    {
     "name": "stdout",
     "output_type": "stream",
     "text": [
      "{'title': '20250415_165815.jpg', 'description': '', 'imageViews': '9', 'creationTime': {'timestamp': '1745751486', 'formatted': '2025/04/27 10:58:06 UTC'}, 'photoTakenTime': {'timestamp': '1744703895', 'formatted': '2025/04/15 7:58:15 UTC'}, 'geoData': {'latitude': 34.7194633, 'longitude': 137.6934814, 'altitude': 29.0, 'latitudeSpan': 0.0, 'longitudeSpan': 0.0}, 'geoDataExif': {'latitude': 34.7194633, 'longitude': 137.6934814, 'altitude': 29.0, 'latitudeSpan': 0.0, 'longitudeSpan': 0.0}, 'url': 'https://photos.google.com/photo/AF1QipOouhwXNVEgwKNHHkuI_y94Zgrjie6l6yYbOqfr', 'googlePhotosOrigin': {'mobileUpload': {'deviceFolder': {'localFolderName': ''}, 'deviceType': 'ANDROID_PHONE'}}, 'appSource': {'androidPackageName': 'com.sec.android.app.camera'}}\n"
     ]
    }
   ],
   "source": [
    "import streamlit as st\n",
    "import pandas as pd\n",
    "import numpy as np\n",
    "import json\n",
    "    \n",
    "json_open = open('samples/20250415_165815.jpg.supplemental-metadata.json', 'r')\n",
    "json_load = json.load(json_open)\n",
    "print(json_load)"
   ]
  }
 ],
 "metadata": {
  "kernelspec": {
   "display_name": "Python 3",
   "language": "python",
   "name": "python3"
  },
  "language_info": {
   "codemirror_mode": {
    "name": "ipython",
    "version": 3
   },
   "file_extension": ".py",
   "mimetype": "text/x-python",
   "name": "python",
   "nbconvert_exporter": "python",
   "pygments_lexer": "ipython3",
   "version": "3.12.10"
  }
 },
 "nbformat": 4,
 "nbformat_minor": 5
}
