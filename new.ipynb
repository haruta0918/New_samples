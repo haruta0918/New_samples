{
 "cells": [
  {
   "cell_type": "code",
   "execution_count": 3,
   "id": "b801c2b9",
   "metadata": {},
   "outputs": [],
   "source": [
    "import streamlit as st\n",
    "import pandas as pd\n",
    "import numpy as np\n",
    "import json\n",
    "json_open = open('samples/20250415_165815.jpg.supplemental-metadata.json', 'r')\n",
    "json_load = json.load(json_open)\n"
   ]
  },
  {
   "cell_type": "code",
   "execution_count": 4,
   "id": "df718434",
   "metadata": {},
   "outputs": [],
   "source": [
    "d = [ {\"LAT\":json_load['geoData']['latitude'], \"LON\":json_load['geoData']['longitude'], \"SIZE\": 0.5, \"COLOR\": [0, 0, 255, 100]}, ]"
   ]
  },
  {
   "cell_type": "code",
   "execution_count": null,
   "id": "4db94511",
   "metadata": {},
   "outputs": [
    {
     "name": "stdout",
     "output_type": "stream",
     "text": [
      "([{'LAT': 34.7194633, 'LON': 137.6934814, 'SIZE': 0.5, 'COLOR': [0, 0, 255, 100]}], 'LAT')\n"
     ]
    }
   ],
   "source": [
    "print(d)"
   ]
  },
  {
   "cell_type": "code",
   "execution_count": 6,
   "id": "be2f2c81",
   "metadata": {},
   "outputs": [],
   "source": [
    "d.extend([\n",
    "    {\"LAT\": 34.0522, \"LON\": -118.2437, \"SIZE\": 0.6, \"COLOR\": [0, 255, 0, 100]},\n",
    "    {\"LAT\": 51.5074, \"LON\": -0.1278, \"SIZE\": 0.4, \"COLOR\": [255, 255, 0, 100]}\n",
    "])\n"
   ]
  },
  {
   "cell_type": "code",
   "execution_count": 7,
   "id": "8e78f09d",
   "metadata": {},
   "outputs": [
    {
     "name": "stdout",
     "output_type": "stream",
     "text": [
      "[{'LAT': 34.7194633, 'LON': 137.6934814, 'SIZE': 0.5, 'COLOR': [0, 0, 255, 100]}, {'LAT': 34.0522, 'LON': -118.2437, 'SIZE': 0.6, 'COLOR': [0, 255, 0, 100]}, {'LAT': 51.5074, 'LON': -0.1278, 'SIZE': 0.4, 'COLOR': [255, 255, 0, 100]}]\n"
     ]
    }
   ],
   "source": [
    "print(d)"
   ]
  },
  {
   "cell_type": "code",
   "execution_count": 10,
   "id": "04728b2b",
   "metadata": {},
   "outputs": [
    {
     "name": "stdout",
     "output_type": "stream",
     "text": [
      "51.5074\n"
     ]
    }
   ],
   "source": [
    "lat_value = d[2][\"LAT\"]\n",
    "print(lat_value)\n"
   ]
  },
  {
   "cell_type": "code",
   "execution_count": null,
   "id": "5cd10489",
   "metadata": {},
   "outputs": [
    {
     "ename": "AttributeError",
     "evalue": "'list' object attribute 'extend' is read-only",
     "output_type": "error",
     "traceback": [
      "\u001b[31m---------------------------------------------------------------------------\u001b[39m",
      "\u001b[31mAttributeError\u001b[39m                            Traceback (most recent call last)",
      "\u001b[36mCell\u001b[39m\u001b[36m \u001b[39m\u001b[32mIn[8]\u001b[39m\u001b[32m, line 14\u001b[39m\n\u001b[32m     12\u001b[39m json_open = \u001b[38;5;28mopen\u001b[39m(\u001b[33m'\u001b[39m\u001b[33msamples/20250427_152001.jpg.supplemental-metadata.json\u001b[39m\u001b[33m'\u001b[39m, \u001b[33m'\u001b[39m\u001b[33mr\u001b[39m\u001b[33m'\u001b[39m)\n\u001b[32m     13\u001b[39m json_load = json.load(json_open)\n\u001b[32m---> \u001b[39m\u001b[32m14\u001b[39m \u001b[43md\u001b[49m\u001b[43m.\u001b[49m\u001b[43mextend\u001b[49m = [\n\u001b[32m     15\u001b[39m         {\u001b[33m\"\u001b[39m\u001b[33mLAT\u001b[39m\u001b[33m\"\u001b[39m:json_load[\u001b[33m'\u001b[39m\u001b[33mgeoData\u001b[39m\u001b[33m'\u001b[39m][\u001b[33m'\u001b[39m\u001b[33mlatitude\u001b[39m\u001b[33m'\u001b[39m], \u001b[33m\"\u001b[39m\u001b[33mLON\u001b[39m\u001b[33m\"\u001b[39m:json_load[\u001b[33m'\u001b[39m\u001b[33mgeoData\u001b[39m\u001b[33m'\u001b[39m][\u001b[33m'\u001b[39m\u001b[33mlongitude\u001b[39m\u001b[33m'\u001b[39m], \u001b[33m\"\u001b[39m\u001b[33mSIZE\u001b[39m\u001b[33m\"\u001b[39m: \u001b[32m0.5\u001b[39m, \u001b[33m\"\u001b[39m\u001b[33mCOLOR\u001b[39m\u001b[33m\"\u001b[39m: [\u001b[32m0\u001b[39m, \u001b[32m0\u001b[39m, \u001b[32m255\u001b[39m, \u001b[32m100\u001b[39m]},\n\u001b[32m     16\u001b[39m     ]\n",
      "\u001b[31mAttributeError\u001b[39m: 'list' object attribute 'extend' is read-only"
     ]
    }
   ],
   "source": [
    "import streamlit as st\n",
    "import pandas as pd\n",
    "import numpy as np\n",
    "import json\n",
    "    \n",
    "json_open = open('samples/20250415_165815.jpg.supplemental-metadata.json', 'r')\n",
    "json_load = json.load(json_open)\n",
    "\n",
    "d = [\n",
    "        {\"LAT\":json_load['geoData']['latitude'], \"LON\":json_load['geoData']['longitude'], \"SIZE\": 0.5, \"COLOR\": [0, 0, 255, 100]},\n",
    "    ]\n",
    "json_open = open('samples/20250427_152001.jpg.supplemental-metadata.json', 'r')\n",
    "json_load = json.load(json_open)\n",
    "d.extend = [\n",
    "        {\"LAT\":json_load['geoData']['latitude'], \"LON\":json_load['geoData']['longitude'], \"SIZE\": 0.5, \"COLOR\": [0, 0, 255, 100]},\n",
    "    ]\n"
   ]
  },
  {
   "cell_type": "code",
   "execution_count": null,
   "id": "19316e95",
   "metadata": {},
   "outputs": [],
   "source": [
    "\n",
    "st.map(d, latitude=\"LAT\", longitude=\"LON\", size=\"SIZE\", color=\"COLOR\", zoom=15)"
   ]
  }
 ],
 "metadata": {
  "kernelspec": {
   "display_name": "Python 3",
   "language": "python",
   "name": "python3"
  },
  "language_info": {
   "codemirror_mode": {
    "name": "ipython",
    "version": 3
   },
   "file_extension": ".py",
   "mimetype": "text/x-python",
   "name": "python",
   "nbconvert_exporter": "python",
   "pygments_lexer": "ipython3",
   "version": "3.12.10"
  }
 },
 "nbformat": 4,
 "nbformat_minor": 5
}
