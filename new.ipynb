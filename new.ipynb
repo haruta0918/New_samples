{
 "cells": [
  {
   "cell_type": "code",
   "execution_count": null,
   "id": "36640f0f",
   "metadata": {},
   "outputs": [],
   "source": [
    "import streamlit as st\n",
    "import pandas as pd\n",
    "import numpy as np\n",
    "df = pd.DataFrame(\n",
    "    {\n",
    "        \"col1\": np.random.randn(1) / 200 + 34.715265,\n",
    "        \"col2\": np.random.randn(1) / 200 + 137.6885,\n",
    "        \"col3\": np.random.randn(1) * 1,\n",
    "        \"col4\": np.random.rand(1, 4).tolist(),\n",
    "    }\n",
    ")"
   ]
  },
  {
   "cell_type": "code",
   "execution_count": null,
   "id": "13a8c1df",
   "metadata": {},
   "outputs": [],
   "source": []
  },
  {
   "cell_type": "code",
   "execution_count": 9,
   "id": "a6e9420d",
   "metadata": {},
   "outputs": [
    {
     "name": "stdout",
     "output_type": "stream",
     "text": [
      "       col1        col2      col3  \\\n",
      "0  34.69863  137.696092  1.142005   \n",
      "\n",
      "                                                col4  \n",
      "0  [0.0448646231111931, 0.0746995799686806, 0.668...  \n"
     ]
    }
   ],
   "source": [
    "print(df)"
   ]
  }
 ],
 "metadata": {
  "kernelspec": {
   "display_name": "Python 3",
   "language": "python",
   "name": "python3"
  },
  "language_info": {
   "codemirror_mode": {
    "name": "ipython",
    "version": 3
   },
   "file_extension": ".py",
   "mimetype": "text/x-python",
   "name": "python",
   "nbconvert_exporter": "python",
   "pygments_lexer": "ipython3",
   "version": "3.12.10"
  }
 },
 "nbformat": 4,
 "nbformat_minor": 5
}
