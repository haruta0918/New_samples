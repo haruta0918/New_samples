{
 "cells": [
  {
   "cell_type": "code",
   "execution_count": 8,
   "id": "ee6561ae",
   "metadata": {},
   "outputs": [],
   "source": [
    "import json\n",
    "json_open = open('samples/20250415_165815.jpg.supplemental-metadata.json', 'r')\n",
    "json_load = json.load(json_open)"
   ]
  },
  {
   "cell_type": "code",
   "execution_count": 24,
   "id": "139183d8",
   "metadata": {},
   "outputs": [
    {
     "name": "stdout",
     "output_type": "stream",
     "text": [
      "['20250415_165815.jpg', '20250415_165815.jpg.supplemental-metadata.json', '20250415_165843.jpg', '20250415_165843.jpg.supplemental-metadata.json', '20250415_165851.jpg', '20250415_165851.jpg.supplemental-metadata.json', '20250415_165908.jpg', '20250415_165908.jpg.supplemental-metadata.json', '20250415_165937.jpg', '20250415_165937.jpg.supplemental-metadata.json', '20250415_170005.jpg', '20250415_170005.jpg.supplemental-metadata.json', '20250415_170038.jpg', '20250415_170038.jpg.supplemental-metadata.json', '20250415_170051.jpg', '20250415_170051.jpg.supplemental-metadata.json', '20250415_170057.jpg', '20250415_170057.jpg.supplemental-metadata.json', '20250415_170101.jpg', '20250415_170101.jpg.supplemental-metadata.json', '20250415_170107.jpg', '20250415_170107.jpg.supplemental-metadata.json', '20250415_170110.jpg', '20250415_170110.jpg.supplemental-metadata.json', '20250415_170143.jpg', '20250415_170143.jpg.supplemental-metadata.json', '20250415_170201.jpg', '20250415_170201.jpg.supplemental-metadata.json', '20250415_170212.jpg', '20250415_170212.jpg.supplemental-metadata.json', '20250415_170330.jpg', '20250415_170330.jpg.supplemental-metadata.json', '20250415_170342.jpg', '20250415_170342.jpg.supplemental-metadata.json', '20250415_170415.jpg', '20250415_170415.jpg.supplemental-metadata.json', '20250415_170451.jpg', '20250415_170451.jpg.supplemental-metadata.json', '20250415_170615.jpg', '20250415_170615.jpg.supplemental-metadata.json', '20250415_170625.jpg', '20250415_170625.jpg.supplemental-metadata.json', '20250415_170639.jpg', '20250415_170639.jpg.supplemental-metadata.json', '20250415_170640.jpg', '20250415_170640.jpg.supplemental-metadata.json', '20250415_170700.jpg', '20250415_170700.jpg.supplemental-metadata.json', '20250415_170754.jpg', '20250415_170754.jpg.supplemental-metadata.json', '20250415_170836.jpg', '20250415_170836.jpg.supplemental-metadata.json', '20250415_170846.jpg', '20250415_170846.jpg.supplemental-metadata.json', '20250415_170856.jpg', '20250415_170856.jpg.supplemental-metadata.json', '20250415_170900.jpg', '20250415_170900.jpg.supplemental-metadata.json', '20250415_170910.jpg', '20250415_170910.jpg.supplemental-metadata.json', '20250415_170929.jpg', '20250415_170929.jpg.supplemental-metadata.json', '20250415_170934.jpg', '20250415_170934.jpg.supplemental-metadata.json', '20250415_170952.mp4', '20250415_170952.mp4.supplemental-metadata.json', '20250415_171003.jpg', '20250415_171003.jpg.supplemental-metadata.json', '20250415_171444.jpg', '20250415_171444.jpg.supplemental-metadata.json', '20250415_171623.jpg', '20250415_171623.jpg.supplemental-metadata.json', '20250415_171920.jpg', '20250415_171920.jpg.supplemental-metadata.json', '20250415_173752.jpg', '20250415_173752.jpg.supplemental-metadata.json', '20250415_173801.jpg', '20250415_173801.jpg.supplemental-metadata.json', '20250418_171426.jpg', '20250418_171426.jpg.supplemental-metadata.json', '20250422_173700.jpg', '20250422_173700.jpg.supplemental-metadata.json', '20250422_173703.jpg', '20250422_173703.jpg.supplemental-metadata.json', '20250422_173814.jpg', '20250422_173814.jpg.supplemental-metadata.json', '20250422_173901.jpg', '20250422_173901.jpg.supplemental-metadata.json', '20250422_174005.jpg', '20250422_174005.jpg.supplemental-metadata.json', '20250422_174108.jpg', '20250422_174108.jpg.supplemental-metadata.json', '20250422_174717.jpg', '20250422_174717.jpg.supplemental-metadata.json', '20250422_174719.jpg', '20250422_174719.jpg.supplemental-metadata.json', '20250422_174722.jpg', '20250422_174722.jpg.supplemental-metadata.json', '20250422_175112.jpg', '20250422_175112.jpg.supplemental-metadata.json', '20250422_181253.jpg', '20250422_181253.jpg.supplemental-metadata.json', '20250422_182332.jpg', '20250422_182332.jpg.supplemental-metadata.json', '20250426_131530.jpg', '20250426_131530.jpg.supplemental-metadata.json', '20250426_131557.jpg', '20250426_131557.jpg.supplemental-metadata.json', '20250426_131626.jpg', '20250426_131626.jpg.supplemental-metadata.json', '20250426_131830.jpg', '20250426_131830.jpg.supplemental-metadata.json', '20250426_131906.jpg', '20250426_131906.jpg.supplemental-metadata.json', '20250426_131910.jpg', '20250426_131910.jpg.supplemental-metadata.json', '20250426_131958.jpg', '20250426_131958.jpg.supplemental-metadata.json', '20250426_132108.jpg', '20250426_132108.jpg.supplemental-metadata.json', '20250426_132112.jpg', '20250426_132112.jpg.supplemental-metadata.json', '20250426_132309.jpg', '20250426_132309.jpg.supplemental-metadata.json', '20250426_132403.jpg', '20250426_132403.jpg.supplemental-metadata.json', '20250426_132931.jpg', '20250426_132931.jpg.supplemental-metadata.json', '20250426_132944.jpg', '20250426_132944.jpg.supplemental-metadata.json', '20250426_132956.jpg', '20250426_132956.jpg.supplemental-metadata.json', '20250426_133021.jpg', '20250426_133021.jpg.supplemental-metadata.json', '20250426_133042.jpg', '20250426_133042.jpg.supplemental-metadata.json', '20250426_133103.jpg', '20250426_133103.jpg.supplemental-metadata.json', '20250426_133112.jpg', '20250426_133112.jpg.supplemental-metadata.json', '20250426_133120.jpg', '20250426_133120.jpg.supplemental-metadata.json', '20250426_133128.jpg', '20250426_133128.jpg.supplemental-metadata.json', '20250426_133139.jpg', '20250426_133139.jpg.supplemental-metadata.json', '20250426_133228.jpg', '20250426_133228.jpg.supplemental-metadata.json', '20250426_134004.jpg', '20250426_134004.jpg.supplemental-metadata.json', '20250426_134017.jpg', '20250426_134017.jpg.supplemental-metadata.json', '20250426_134034.jpg', '20250426_134034.jpg.supplemental-metadata.json', '20250426_134103.jpg', '20250426_134103.jpg.supplemental-metadata.json', '20250426_134132.jpg', '20250426_134132.jpg.supplemental-metadata.json', '20250426_134510.jpg', '20250426_134510.jpg.supplemental-metadata.json', '20250426_134543.jpg', '20250426_134543.jpg.supplemental-metadata.json', '20250426_134602.jpg', '20250426_134602.jpg.supplemental-metadata.json', '20250426_134624.jpg', '20250426_134624.jpg.supplemental-metadata.json', '20250426_134627.jpg', '20250426_134627.jpg.supplemental-metadata.json', '20250426_134735.jpg', '20250426_134735.jpg.supplemental-metadata.json', '20250426_134824.jpg', '20250426_134824.jpg.supplemental-metadata.json', '20250426_134921.jpg', '20250426_134921.jpg.supplemental-metadata.json', '20250426_134933.jpg', '20250426_134933.jpg.supplemental-metadata.json', '20250426_135008.jpg', '20250426_135008.jpg.supplemental-metadata.json', '20250426_135128.jpg', '20250426_135128.jpg.supplemental-metadata.json', '20250426_135507.jpg', '20250426_135507.jpg.supplemental-metadata.json', '20250426_135949.jpg', '20250426_135949.jpg.supplemental-metadata.json', '20250426_135951.jpg', '20250426_135951.jpg.supplemental-metadata.json', '20250426_140009.jpg', '20250426_140009.jpg.supplemental-metadata.json', '20250426_140111.jpg', '20250426_140111.jpg.supplemental-metadata.json', '20250426_140353.jpg', '20250426_140353.jpg.supplemental-metadata.json', '20250426_140446.jpg', '20250426_140446.jpg.supplemental-metadata.json', '20250426_141049.jpg', '20250426_141049.jpg.supplemental-metadata.json', '20250427_144804.jpg', '20250427_144804.jpg.supplemental-metadata.json', '20250427_144830.jpg', '20250427_144830.jpg.supplemental-metadata.json', '20250427_144842.jpg', '20250427_144842.jpg.supplemental-metadata.json', '20250427_145035.jpg', '20250427_145035.jpg.supplemental-metadata.json', '20250427_145116.jpg', '20250427_145116.jpg.supplemental-metadata.json', '20250427_145244.jpg', '20250427_145244.jpg.supplemental-metadata.json', '20250427_145410.jpg', '20250427_145410.jpg.supplemental-metadata.json', '20250427_145433.jpg', '20250427_145433.jpg.supplemental-metadata.json', '20250427_145629.jpg', '20250427_145629.jpg.supplemental-metadata.json', '20250427_145707.jpg', '20250427_145707.jpg.supplemental-metadata.json', '20250427_150040.jpg', '20250427_150040.jpg.supplemental-metadata.json', '20250427_150335.jpg', '20250427_150335.jpg.supplemental-metadata.json', '20250427_150353.jpg', '20250427_150353.jpg.supplemental-metadata.json', '20250427_150440.jpg', '20250427_150440.jpg.supplemental-metadata.json', '20250427_150736.jpg', '20250427_150736.jpg.supplemental-metadata.json', '20250427_151246.jpg', '20250427_151246.jpg.supplemental-metadata.json', '20250427_151247.jpg', '20250427_151247.jpg.supplemental-metadata.json', '20250427_152001.jpg', '20250427_152001.jpg.supplemental-metadata.json', '20250427_152028.jpg', '20250427_152028.jpg.supplemental-metadata.json', '20250427_152105.jpg', '20250427_152105.jpg.supplemental-metadata.json', '20250427_152116.jpg', '20250427_152116.jpg.supplemental-metadata.json', '20250427_152127.jpg', '20250427_152127.jpg.supplemental-metadata.json', '20250427_152137.jpg', '20250427_152137.jpg.supplemental-metadata.json', '20250427_152747.jpg', '20250427_152747.jpg.supplemental-metadata.json', '20250427_152756.jpg', '20250427_152756.jpg.supplemental-metadata.json', 'New.kmz', 'メタデータ.json']\n"
     ]
    }
   ],
   "source": [
    "import os\n",
    "directory='samples' \n",
    "def list_files(directory):\n",
    "    return os.listdir(directory)\n",
    " \n",
    "print(list_files('samples'))"
   ]
  },
  {
   "cell_type": "code",
   "execution_count": 23,
   "id": "7138ad80",
   "metadata": {},
   "outputs": [],
   "source": [
    "import streamlit as st\n",
    "import pandas as pd\n",
    "import numpy as np\n",
    "import json\n",
    "import os\n",
    "import os\n",
    "directory = 'samples' \n",
    "def list_files_by_extension(directory, extension):\n",
    "    for root, dirs, files in os.walk(directory):\n",
    "        for file in files:\n",
    "            if file.endswith(extension):\n",
    "                print(os.path.join(root, file))\n",
    "                file_name=os.path.join(root, file)\n",
    "                json_open = open('samples/,file_name[1]' 'r')\n",
    "                json_load = json.load(json_open)\n",
    "\n",
    "                d = [\n",
    "                {\"LAT\":json_load['geoData']['latitude'], \"LON\":json_load['geoData']['longitude'], \"SIZE\": 0.5, \"COLOR\": [0, 0, 255, 100]},\n",
    "                    ]\n",
    "                st.map(d, latitude=\"LAT\", longitude=\"LON\", size=\"SIZE\", color=\"COLOR\", zoom=15)"
   ]
  }
 ],
 "metadata": {
  "kernelspec": {
   "display_name": "Python 3",
   "language": "python",
   "name": "python3"
  },
  "language_info": {
   "codemirror_mode": {
    "name": "ipython",
    "version": 3
   },
   "file_extension": ".py",
   "mimetype": "text/x-python",
   "name": "python",
   "nbconvert_exporter": "python",
   "pygments_lexer": "ipython3",
   "version": "3.12.10"
  }
 },
 "nbformat": 4,
 "nbformat_minor": 5
}
