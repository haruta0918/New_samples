{
 "cells": [
  {
   "cell_type": "code",
   "execution_count": null,
   "id": "36640f0f",
   "metadata": {},
   "outputs": [],
   "source": [
    "import streamlit as st\n",
    "import pandas as pd\n",
    "import numpy as np\n",
    "df = pd.DataFrame(\n",
    "    {\n",
    "        \"col1\": np.random.randn(1) / 200 + 34.715265,\n",
    "        \"col2\": np.random.randn(1) / 200 + 137.6885,\n",
    "        \"col3\": np.random.randn(1) * 1,\n",
    "        \"col4\": np.random.rand(1, 4).tolist(),\n",
    "    }\n",
    ")"
   ]
  },
  {
   "cell_type": "code",
   "execution_count": 13,
   "id": "13a8c1df",
   "metadata": {},
   "outputs": [],
   "source": [
    "import streamlit as st\n",
    "import pandas as pd\n",
    "import numpy as np\n",
    "df = (\n",
    "    {\n",
    "        \"col1\":  34.715265,\n",
    "        \"col2\":   137.6885,\n",
    "    }\n",
    ")"
   ]
  },
  {
   "cell_type": "code",
   "execution_count": 12,
   "id": "a6e9420d",
   "metadata": {},
   "outputs": [
    {
     "name": "stdout",
     "output_type": "stream",
     "text": [
      "{'col1': 234.715265, 'col2': 337.6885}\n"
     ]
    }
   ],
   "source": [
    "print(df)"
   ]
  },
  {
   "cell_type": "code",
   "execution_count": null,
   "id": "6e62ce90",
   "metadata": {},
   "outputs": [
    {
     "name": "stderr",
     "output_type": "stream",
     "text": [
      "2025-05-29 20:25:45.520 Thread 'MainThread': missing ScriptRunContext! This warning can be ignored when running in bare mode.\n",
      "2025-05-29 20:25:45.521 Thread 'MainThread': missing ScriptRunContext! This warning can be ignored when running in bare mode.\n"
     ]
    },
    {
     "data": {
      "text/plain": [
       "DeltaGenerator()"
      ]
     },
     "execution_count": 18,
     "metadata": {},
     "output_type": "execute_result"
    }
   ],
   "source": [
    "import streamlit as st\n",
    "import pandas as pd\n",
    "import numpy as np\n",
    "\n",
    "df = pd.DataFrame(\n",
    "    {\n",
    "        \"col1\": np.random.randn(100) / 200 + 34.715265,\n",
    "        \"col2\":  137.6885,\n",
    "        \"col3\": np.random.randn(100) * 1,\n",
    "        \"col4\": np.random.rand(100, 4).tolist(),\n",
    "    }\n",
    ")\n",
    "\n",
    "st.map(df, latitude=\"col1\", longitude=\"col2\", size=\"col3\", color=\"col4\")\n",
    "st.map(df, size=10, color=\"#0044ff\")\n",
    "st.map(df, size=10, color=\"#0044ff\")"
   ]
  }
 ],
 "metadata": {
  "kernelspec": {
   "display_name": "Python 3",
   "language": "python",
   "name": "python3"
  },
  "language_info": {
   "codemirror_mode": {
    "name": "ipython",
    "version": 3
   },
   "file_extension": ".py",
   "mimetype": "text/x-python",
   "name": "python",
   "nbconvert_exporter": "python",
   "pygments_lexer": "ipython3",
   "version": "3.12.10"
  }
 },
 "nbformat": 4,
 "nbformat_minor": 5
}
