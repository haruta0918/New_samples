{
 "cells": [
  {
   "cell_type": "code",
   "execution_count": null,
   "id": "81f7dae0",
   "metadata": {},
   "outputs": [],
   "source": []
  },
  {
   "cell_type": "code",
   "execution_count": null,
   "id": "0bc36524",
   "metadata": {},
   "outputs": [
    {
     "name": "stdout",
     "output_type": "stream",
     "text": [
      "20250415_16581.jpg\n",
      "<_io.TextIOWrapper name='samples/20250415_16581.jpg' mode='r' encoding='cp932'>\n"
     ]
    },
    {
     "ename": "UnicodeDecodeError",
     "evalue": "'cp932' codec can't decode byte 0xe0 in position 3: illegal multibyte sequence",
     "output_type": "error",
     "traceback": [
      "\u001b[31m---------------------------------------------------------------------------\u001b[39m",
      "\u001b[31mUnicodeDecodeError\u001b[39m                        Traceback (most recent call last)",
      "\u001b[36mCell\u001b[39m\u001b[36m \u001b[39m\u001b[32mIn[26]\u001b[39m\u001b[32m, line 22\u001b[39m\n\u001b[32m     20\u001b[39m json_open=\u001b[38;5;28mopen\u001b[39m(c, \u001b[33m'\u001b[39m\u001b[33mr\u001b[39m\u001b[33m'\u001b[39m) \n\u001b[32m     21\u001b[39m \u001b[38;5;28mprint\u001b[39m(json_open)\n\u001b[32m---> \u001b[39m\u001b[32m22\u001b[39m json_load = \u001b[43mjson\u001b[49m\u001b[43m.\u001b[49m\u001b[43mload\u001b[49m\u001b[43m(\u001b[49m\u001b[43mjson_open\u001b[49m\u001b[43m)\u001b[49m\n\u001b[32m     23\u001b[39m d = [\n\u001b[32m     24\u001b[39m         {\u001b[33m\"\u001b[39m\u001b[33mLAT\u001b[39m\u001b[33m\"\u001b[39m:json_load[\u001b[33m'\u001b[39m\u001b[33mgeoData\u001b[39m\u001b[33m'\u001b[39m][\u001b[33m'\u001b[39m\u001b[33mlatitude\u001b[39m\u001b[33m'\u001b[39m], \u001b[33m\"\u001b[39m\u001b[33mLON\u001b[39m\u001b[33m\"\u001b[39m:json_load[\u001b[33m'\u001b[39m\u001b[33mgeoData\u001b[39m\u001b[33m'\u001b[39m][\u001b[33m'\u001b[39m\u001b[33mlongitude\u001b[39m\u001b[33m'\u001b[39m], \u001b[33m\"\u001b[39m\u001b[33mSIZE\u001b[39m\u001b[33m\"\u001b[39m: \u001b[32m0.5\u001b[39m, \u001b[33m\"\u001b[39m\u001b[33mCOLOR\u001b[39m\u001b[33m\"\u001b[39m: [\u001b[32m0\u001b[39m, \u001b[32m0\u001b[39m, \u001b[32m255\u001b[39m, \u001b[32m100\u001b[39m]}, \n\u001b[32m     25\u001b[39m     ]\n",
      "\u001b[36mFile \u001b[39m\u001b[32mc:\\Users\\harut\\.pyenv\\pyenv-win\\versions\\3.12.10\\Lib\\json\\__init__.py:293\u001b[39m, in \u001b[36mload\u001b[39m\u001b[34m(fp, cls, object_hook, parse_float, parse_int, parse_constant, object_pairs_hook, **kw)\u001b[39m\n\u001b[32m    274\u001b[39m \u001b[38;5;28;01mdef\u001b[39;00m\u001b[38;5;250m \u001b[39m\u001b[34mload\u001b[39m(fp, *, \u001b[38;5;28mcls\u001b[39m=\u001b[38;5;28;01mNone\u001b[39;00m, object_hook=\u001b[38;5;28;01mNone\u001b[39;00m, parse_float=\u001b[38;5;28;01mNone\u001b[39;00m,\n\u001b[32m    275\u001b[39m         parse_int=\u001b[38;5;28;01mNone\u001b[39;00m, parse_constant=\u001b[38;5;28;01mNone\u001b[39;00m, object_pairs_hook=\u001b[38;5;28;01mNone\u001b[39;00m, **kw):\n\u001b[32m    276\u001b[39m \u001b[38;5;250m    \u001b[39m\u001b[33;03m\"\"\"Deserialize ``fp`` (a ``.read()``-supporting file-like object containing\u001b[39;00m\n\u001b[32m    277\u001b[39m \u001b[33;03m    a JSON document) to a Python object.\u001b[39;00m\n\u001b[32m    278\u001b[39m \n\u001b[32m   (...)\u001b[39m\u001b[32m    291\u001b[39m \u001b[33;03m    kwarg; otherwise ``JSONDecoder`` is used.\u001b[39;00m\n\u001b[32m    292\u001b[39m \u001b[33;03m    \"\"\"\u001b[39;00m\n\u001b[32m--> \u001b[39m\u001b[32m293\u001b[39m     \u001b[38;5;28;01mreturn\u001b[39;00m loads(\u001b[43mfp\u001b[49m\u001b[43m.\u001b[49m\u001b[43mread\u001b[49m\u001b[43m(\u001b[49m\u001b[43m)\u001b[49m,\n\u001b[32m    294\u001b[39m         \u001b[38;5;28mcls\u001b[39m=\u001b[38;5;28mcls\u001b[39m, object_hook=object_hook,\n\u001b[32m    295\u001b[39m         parse_float=parse_float, parse_int=parse_int,\n\u001b[32m    296\u001b[39m         parse_constant=parse_constant, object_pairs_hook=object_pairs_hook, **kw)\n",
      "\u001b[31mUnicodeDecodeError\u001b[39m: 'cp932' codec can't decode byte 0xe0 in position 3: illegal multibyte sequence"
     ]
    }
   ],
   "source": [
    "import streamlit as st\n",
    "import pandas as pd\n",
    "import numpy as np\n",
    "import json\n",
    "import os\n",
    "\n",
    "import os\n",
    "\n",
    "dir_path = \"samples\"\n",
    "\n",
    "files_file = [\n",
    "    f for f in os.listdir(dir_path) if os.path.isfile(os.path.join(dir_path, f))\n",
    "]\n",
    "folder_path2=dir_path+'/'\n",
    "a2=0\n",
    "a=files_file[a2]\n",
    "print(a)\n",
    "stra=str(a)\n",
    "c=folder_path2+stra\n",
    "json_open=open(c, 'r') \n",
    "print(json_open)\n",
    "json_load = json.load(json_open)\n",
    "d = [\n",
    "        {\"LAT\":json_load['geoData']['latitude'], \"LON\":json_load['geoData']['longitude'], \"SIZE\": 0.5, \"COLOR\": [0, 0, 255, 100]}, \n",
    "    ]"
   ]
  }
 ],
 "metadata": {
  "kernelspec": {
   "display_name": "3.12.10",
   "language": "python",
   "name": "python3"
  },
  "language_info": {
   "codemirror_mode": {
    "name": "ipython",
    "version": 3
   },
   "file_extension": ".py",
   "mimetype": "text/x-python",
   "name": "python",
   "nbconvert_exporter": "python",
   "pygments_lexer": "ipython3",
   "version": "3.12.10"
  }
 },
 "nbformat": 4,
 "nbformat_minor": 5
}
